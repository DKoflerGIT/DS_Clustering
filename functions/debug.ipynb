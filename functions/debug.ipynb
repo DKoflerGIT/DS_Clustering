{
 "cells": [
  {
   "cell_type": "code",
   "execution_count": 8,
   "metadata": {},
   "outputs": [
    {
     "data": {
      "text/plain": [
       "['#5eb452', '#fad7a6', '#4c2eae']"
      ]
     },
     "execution_count": 8,
     "metadata": {},
     "output_type": "execute_result"
    }
   ],
   "source": [
    "import numpy as np\n",
    "import random\n",
    "\n",
    "clusterCenters = [(10,10,10),(20,20,20),(30,30,30)]\n",
    "\n",
    "color = []\n",
    "for c in clusterCenters:\n",
    "    color.append('#' + \n",
    "        hex(random.randint(0, 255))[2:] +\n",
    "        hex(random.randint(0, 255))[2:] +\n",
    "        hex(random.randint(0, 255))[2:]\n",
    "    )\n",
    "\n",
    "color"
   ]
  }
 ],
 "metadata": {
  "interpreter": {
   "hash": "f761d2206074d82dd8e41bd143266f9d3dcf5f45b684a45cd98ca9fdc4a46ee0"
  },
  "kernelspec": {
   "display_name": "Python 3.10.1 64-bit",
   "language": "python",
   "name": "python3"
  },
  "language_info": {
   "codemirror_mode": {
    "name": "ipython",
    "version": 3
   },
   "file_extension": ".py",
   "mimetype": "text/x-python",
   "name": "python",
   "nbconvert_exporter": "python",
   "pygments_lexer": "ipython3",
   "version": "3.10.1"
  },
  "orig_nbformat": 4
 },
 "nbformat": 4,
 "nbformat_minor": 2
}
