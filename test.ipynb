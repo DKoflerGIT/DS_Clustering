{
 "cells": [
  {
   "cell_type": "code",
   "execution_count": 38,
   "metadata": {},
   "outputs": [
    {
     "name": "stdout",
     "output_type": "stream",
     "text": [
      "{(1, 1): (10, 10), (2, 2): (10, 10), (3, 3): (20, 20), (4, 4): (20, 20)}\n"
     ]
    }
   ],
   "source": [
    "from matplotlib import pyplot as plt\n",
    "import numpy as np, random\n",
    "\n",
    "# assignmentDict = {\n",
    "#     (1, 1, 1) : (10, 10, 10),\n",
    "#     (2, 2, 2) : (10, 10, 10),\n",
    "#     (3, 3, 3) : (20, 20, 20),\n",
    "#     (4, 4, 4) : (20, 20, 20)\n",
    "# }\n",
    "\n",
    "assignmentDict = {\n",
    "    (1, 1) : (10, 10),\n",
    "    (2, 2) : (10, 10),\n",
    "    (3, 3) : (20, 20),\n",
    "    (4, 4) : (20, 20)\n",
    "}\n",
    "\n",
    "title = 'Test'\n",
    "print(assignmentDict)"
   ]
  },
  {
   "cell_type": "code",
   "execution_count": 40,
   "metadata": {},
   "outputs": [
    {
     "name": "stdout",
     "output_type": "stream",
     "text": [
      "[(1, 1), (2, 2), (3, 3), (4, 4)]\n",
      "[(10, 10), (20, 20)]\n",
      "{(10, 10): '#92F31D', (20, 20): '#7D340B'}\n"
     ]
    }
   ],
   "source": [
    "dataPoints = []\n",
    "clusterCenters = []\n",
    "\n",
    "for a in assignmentDict: \n",
    "    if (a not in dataPoints): #get data points from dict\n",
    "        dataPoints.append(a)\n",
    "\n",
    "    if (assignmentDict[a] not in clusterCenters): #get cluster centers from dict\n",
    "        clusterCenters.append(assignmentDict[a])     \n",
    "\n",
    "dim = len(dataPoints[0]) #dimensionality of the data points\n",
    "if dim > 3:\n",
    "    print('error')\n",
    "    #return\n",
    "\n",
    "clusterColors = {}\n",
    "\n",
    "for c in clusterCenters: #assign random colors to each cluster\n",
    "    numbers = [random.randint(0, 255), random.randint(0, 255), random.randint(0, 255)]\n",
    "    clusterColors[c] = '#' + ''.join('{:02X}'.format(n) for n in numbers)\n",
    "\n",
    "print(dataPoints)\n",
    "print(clusterCenters)\n",
    "print(clusterColors)"
   ]
  },
  {
   "cell_type": "code",
   "execution_count": 42,
   "metadata": {},
   "outputs": [
    {
     "name": "stdout",
     "output_type": "stream",
     "text": [
      "[[1, 2], [1, 2]]\n",
      "[[3, 4], [3, 4]]\n"
     ]
    },
    {
     "data": {
      "image/png": "[encoded data removed]",
      "text/plain": [
       "<Figure size 720x720 with 1 Axes>"
      ]
     },
     "metadata": {
      "needs_background": "light"
     },
     "output_type": "display_data"
    }
   ],
   "source": [
    "pts = []\n",
    "dataPointsPlot = []\n",
    "\n",
    "fig = plt.figure(figsize=(10,10))\n",
    "if (dim == 3):\n",
    "    ax = fig.add_subplot(projection='3d')\n",
    "\n",
    "for i,c in enumerate(clusterCenters):\n",
    "    pts.clear()\n",
    "    dataPointsPlot.clear()\n",
    "\n",
    "    for a in assignmentDict: # get datapoints assigned to current cluster\n",
    "        if assignmentDict[a] == c:\n",
    "            pts.append(a)\n",
    "\n",
    "    for d in range(dim):\n",
    "        dataPointsPlot.append([])\n",
    "        for p in pts:   \n",
    "            dataPointsPlot[d].append(p[d])\n",
    "\n",
    "    print(dataPointsPlot)\n",
    "\n",
    "    #plot\n",
    "    match dim:\n",
    "        case 1:\n",
    "            plt.scatter(c[0], s = 200, c = clusterColors[c], marker = \"x\")\n",
    "            plt.scatter(dataPointsPlot[0], s = 200, c = dataPointsPlot[c], marker = \"o\")\n",
    "        case 2:\n",
    "            plt.scatter(c[0], c[1], s = 200, c = clusterColors[c], marker = \"x\")\n",
    "            plt.scatter(dataPointsPlot[0], dataPointsPlot[1], s = 200, c = clusterColors[c], marker = \"o\")\n",
    "        case 3:\n",
    "            ax.scatter(c[0], c[1], c[2], s = 200, c = clusterColors[c], marker = \"x\", alpha = 1, depthshade = False)\n",
    "            ax.scatter(dataPointsPlot[0], dataPointsPlot[1], dataPointsPlot[2], s = 30, c = clusterColors[c], marker = \"o\", alpha = 1, depthshade = False)\n",
    "\n",
    "plt.title(title)\n",
    "plt.show()"
   ]
  }
 ],
 "metadata": {
  "interpreter": {
   "hash": "f761d2206074d82dd8e41bd143266f9d3dcf5f45b684a45cd98ca9fdc4a46ee0"
  },
  "kernelspec": {
   "display_name": "Python 3.10.1 64-bit",
   "language": "python",
   "name": "python3"
  },
  "language_info": {
   "codemirror_mode": {
    "name": "ipython",
    "version": 3
   },
   "file_extension": ".py",
   "mimetype": "text/x-python",
   "name": "python",
   "nbconvert_exporter": "python",
   "pygments_lexer": "ipython3",
   "version": "3.10.1"
  },
  "orig_nbformat": 4
 },
 "nbformat": 4,
 "nbformat_minor": 2
}
